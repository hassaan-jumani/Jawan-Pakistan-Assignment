{
 "cells": [
  {
   "cell_type": "markdown",
   "metadata": {},
   "source": [
    "# 1.Write a Python program to print\n"
   ]
  },
  {
   "cell_type": "code",
   "execution_count": 9,
   "metadata": {},
   "outputs": [
    {
     "name": "stdout",
     "output_type": "stream",
     "text": [
      "Twinkle, twinkle, little star,\n",
      "\t How I wonder what you are!\n",
      "\t\t\tUp above the world so high,\n",
      "\t\t\tLike a diamond in the sky.\n",
      "Twinkle, twinkle, little star,\n",
      "\t\tHow I wonder what you are\n"
     ]
    }
   ],
   "source": [
    "a =(\"Twinkle, Twinkle, little star,\")\n",
    "b=(\"\\t How I wonder what you are!\")\n",
    "c=(\"\\t\\t\\tUp above the world so high,\")\n",
    "d=(\"\\t\\t\\tLike a diamond in the sky.\")\n",
    "e=(\"\\t\\tHow I wonder what you are\")\n",
    "print(f\"{a}\\n{b}\\n{c}\\n{d}\\n{a}\\n{e}\")"
   ]
  },
  {
   "cell_type": "code",
   "execution_count": 10,
   "metadata": {},
   "outputs": [
    {
     "name": "stdout",
     "output_type": "stream",
     "text": [
      "Python 3.7.3\n"
     ]
    }
   ],
   "source": [
    "!python --version"
   ]
  },
  {
   "cell_type": "code",
   "execution_count": 12,
   "metadata": {},
   "outputs": [
    {
     "name": "stdout",
     "output_type": "stream",
     "text": [
      "\tDate : 01-01-2022\n",
      "\tTime : 21:43:34\n"
     ]
    }
   ],
   "source": [
    "import datetime\n",
    "now = datetime.datetime.now()\n",
    "print(now.strftime(\"\\tDate : %d-%m-%Y\\n\\tTime : %H:%M:%S\"))"
   ]
  },
  {
   "cell_type": "code",
   "execution_count": 13,
   "metadata": {},
   "outputs": [
    {
     "name": "stdout",
     "output_type": "stream",
     "text": [
      "Put the Radius of Circle : 50\n",
      "Area of Circle :7867.499999999999\n"
     ]
    }
   ],
   "source": [
    "Pi = 3.147\n",
    "r = float(input(\"Put the Radius of Circle : \"))\n",
    "area = Pi*(r*r)\n",
    "print(f\"Area of Circle :{area}\")"
   ]
  },
  {
   "cell_type": "code",
   "execution_count": 14,
   "metadata": {},
   "outputs": [
    {
     "name": "stdout",
     "output_type": "stream",
     "text": [
      "Enter First Name : hassaan\n",
      "Enter Last Name : naeem\n",
      "naeem hassaan\n"
     ]
    }
   ],
   "source": [
    "First_Name = input(\"Enter First Name : \")\n",
    "Last_Name = input(\"Enter Last Name : \")\n",
    "print(Last_Name + \" \" + First_Name)"
   ]
  },
  {
   "cell_type": "code",
   "execution_count": 17,
   "metadata": {},
   "outputs": [
    {
     "name": "stdout",
     "output_type": "stream",
     "text": [
      "Enter the first input: 4\n",
      "Enter the second input: 5\n",
      "9\n"
     ]
    }
   ],
   "source": [
    "a = float(input(\"Enter the first input: \"))\n",
    "b = float(input(\"Enter the second input: \"))\n",
    "print(int(a+b))"
   ]
  },
  {
   "cell_type": "code",
   "execution_count": null,
   "metadata": {},
   "outputs": [],
   "source": []
  }
 ],
 "metadata": {
  "kernelspec": {
   "display_name": "Python 3",
   "language": "python",
   "name": "python3"
  },
  "language_info": {
   "codemirror_mode": {
    "name": "ipython",
    "version": 3
   },
   "file_extension": ".py",
   "mimetype": "text/x-python",
   "name": "python",
   "nbconvert_exporter": "python",
   "pygments_lexer": "ipython3",
   "version": "3.7.3"
  }
 },
 "nbformat": 4,
 "nbformat_minor": 2
}
